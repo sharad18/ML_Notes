{
 "cells": [
  {
   "cell_type": "code",
   "execution_count": 7,
   "metadata": {},
   "outputs": [
    {
     "name": "stdout",
     "output_type": "stream",
     "text": [
      "1\n",
      "1 1 1 1 1 \n",
      "5 5 5 5 5\n"
     ]
    }
   ],
   "source": [
    "class A():\n",
    "    x = 1\n",
    "    \n",
    "a = A()\n",
    "print a.x\n",
    "\n",
    "b = [A()] * 5 #Giving refernece to the same place\n",
    "              #All are pointing to same location in Heap\n",
    "\n",
    "for ix in b:\n",
    "    print ix.x,\n",
    "    \n",
    "b[2].x = 5\n",
    "print ''\n",
    "for ix in b:\n",
    "    print ix.x,"
   ]
  },
  {
   "cell_type": "code",
   "execution_count": 9,
   "metadata": {},
   "outputs": [
    {
     "name": "stdout",
     "output_type": "stream",
     "text": [
      "1\n",
      "1 1 1 1 1 \n",
      "1 1 5 1 1\n"
     ]
    }
   ],
   "source": [
    "class A():\n",
    "    x = 1\n",
    "    \n",
    "a = A()\n",
    "print a.x\n",
    "\n",
    "b = [A() for ix in range(5)] # All are pointing to different locations in the heap.\n",
    "\n",
    "for ix in b:\n",
    "    print ix.x,\n",
    "    \n",
    "b[2].x = 5\n",
    "\n",
    "print ''\n",
    "for ix in b:\n",
    "    print ix.x,"
   ]
  },
  {
   "cell_type": "code",
   "execution_count": 14,
   "metadata": {},
   "outputs": [
    {
     "name": "stdout",
     "output_type": "stream",
     "text": [
      "[10, 'a']\n",
      "[123]\n",
      "[10, 'a']\n"
     ]
    }
   ],
   "source": [
    "def extendList(val, l = []):\n",
    "    l.append(val)\n",
    "    return l\n",
    "\n",
    "list1 = extendList(10)\n",
    "list2 = extendList(123, [])\n",
    "list3 = extendList('a')\n",
    "\n",
    "print list1\n",
    "print list2\n",
    "print list3\n",
    "# l is a single place holder in the heap. So until we dont pass a list to the function, it keeps pointing to the same list i.e. l in the heap."
   ]
  },
  {
   "cell_type": "code",
   "execution_count": 38,
   "metadata": {},
   "outputs": [
    {
     "name": "stdout",
     "output_type": "stream",
     "text": [
      "[10]\n",
      "[123]\n",
      "['a']\n"
     ]
    }
   ],
   "source": [
    "def extendList(val, l = []):\n",
    "    if len(l) !=0:\n",
    "        l=[]\n",
    "    \n",
    "    l.append(val)\n",
    "    return l\n",
    "\n",
    "list1 = extendList(10)\n",
    "list2 = extendList(123, [])\n",
    "list3 = extendList('a')\n",
    "\n",
    "print list1\n",
    "print list2\n",
    "print list3"
   ]
  },
  {
   "cell_type": "code",
   "execution_count": null,
   "metadata": {},
   "outputs": [],
   "source": [
    "class Obj:\n",
    "    def __init__(self, a=0, b=1):\n",
    "        self.a = a\n",
    "        self.b = b\n",
    "\n",
    "objects = [Obj(1,2), Obj(5,4), Obj(7, 3), Obj(11,42), Obj(5, 9), Obj(8, 0),]\n",
    "for ix in objects:\n",
    "    print ix"
   ]
  },
  {
   "cell_type": "code",
   "execution_count": null,
   "metadata": {
    "collapsed": true
   },
   "outputs": [],
   "source": []
  }
 ],
 "metadata": {
  "kernelspec": {
   "display_name": "Python 2",
   "language": "python",
   "name": "python2"
  },
  "language_info": {
   "codemirror_mode": {
    "name": "ipython",
    "version": 2
   },
   "file_extension": ".py",
   "mimetype": "text/x-python",
   "name": "python",
   "nbconvert_exporter": "python",
   "pygments_lexer": "ipython2",
   "version": "2.7.12"
  }
 },
 "nbformat": 4,
 "nbformat_minor": 2
}
