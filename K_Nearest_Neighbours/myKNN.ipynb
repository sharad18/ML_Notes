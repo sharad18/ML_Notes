{
 "cells": [
  {
   "cell_type": "code",
   "execution_count": 3,
   "metadata": {
    "collapsed": true
   },
   "outputs": [],
   "source": [
    "import numpy as np\n",
    "import matplotlib.pyplot as plt\n",
    "%matplotlib inline"
   ]
  },
  {
   "cell_type": "code",
   "execution_count": 4,
   "metadata": {},
   "outputs": [],
   "source": [
    "mean_01 = np.array([1, 0.5])\n",
    "cov_01 = np.array([[1, 0.1], [0.1, 1.2]])\n",
    "\n",
    "mean_02 = np.array([4, 5])\n",
    "cov_02 = np.array([[1, 0.1], [0.1, 1.2]])\n",
    "\n",
    "dist_01 = np.random.multivariate_normal(mean_01, cov_01, 500)\n",
    "dist_02 = np.random.multivariate_normal(mean_02, cov_02, 500)"
   ]
  },
  {
   "cell_type": "code",
   "execution_count": null,
   "metadata": {},
   "outputs": [],
   "source": [
    "#Plot the scatter plot\n",
    "plt.figure(0)\n",
    "\n",
    "plt.scatter(dist_01[:, 0], dist_01[:, 1])\n",
    "plt.scatter(dist_02[:, 0], dist_02[:, 1], color ='red')\n",
    "\n",
    "plt.show()"
   ]
  },
  {
   "cell_type": "code",
   "execution_count": 6,
   "metadata": {},
   "outputs": [
    {
     "name": "stdout",
     "output_type": "stream",
     "text": [
      "(1000, 3)\n",
      "[ 2.4870941   2.79369473  0.5       ]\n"
     ]
    }
   ],
   "source": [
    "# Preparing data--> Calculating the number of rows and columns of the data\n",
    "r = dist_01.shape[0] + dist_02.shape[0]\n",
    "c = dist_01.shape[1] + 1 # +1 for label\n",
    "data = np.zeros((r, c))\n",
    "print data.shape\n",
    "\n",
    "data[:dist_01.shape[0], :2] = dist_01\n",
    "data[dist_01.shape[0]:, :2] = dist_02\n",
    "data[dist_01.shape[0]:, -1] = 1.0\n",
    "\n",
    "print data.mean(axis = 0)"
   ]
  },
  {
   "cell_type": "code",
   "execution_count": 7,
   "metadata": {},
   "outputs": [
    {
     "name": "stdout",
     "output_type": "stream",
     "text": [
      "[[ 0.87026233  2.39594542  0.        ]\n",
      " [ 4.25428406  4.83957698  1.        ]\n",
      " [ 1.99477985  0.32438822  0.        ]\n",
      " [ 4.21205088  4.36944683  1.        ]\n",
      " [ 0.41866284 -0.24731212  0.        ]\n",
      " [ 1.21396621  0.63320728  0.        ]\n",
      " [ 4.34483453  2.76261758  1.        ]\n",
      " [ 5.09749569  4.35213232  1.        ]\n",
      " [ 1.45578831  4.3953151   1.        ]\n",
      " [ 1.55203489  0.20119066  0.        ]]\n"
     ]
    }
   ],
   "source": [
    "#Now we shuffle the data so that when we are training and tsting it we get the best insight of the overall daTa\n",
    "np.random.shuffle(data)\n",
    "print data[:10]"
   ]
  },
  {
   "cell_type": "code",
   "execution_count": 26,
   "metadata": {},
   "outputs": [],
   "source": [
    "# Calculate Eucledian distance\n",
    "def e_distance(x1, x2):\n",
    "    d = np.sqrt(np.sum((x1-x2)**2))\n",
    "    return d\n",
    "\n",
    "#print e_distance(np.array([1, 1]), np.array([0, 0]))\n",
    "\n",
    "def knn(x_train, y_train, xt, k = 7):\n",
    "    vals = []\n",
    "    for ix in range(x_train.shape[0]):\n",
    "        d = e_distance(xt, x_train[ix])\n",
    "        vals.append([d,  y_train[ix]])\n",
    "    sorted_labels = sorted(vals, key = lambda z:z[0])\n",
    "    neighbours = np.asarray(sorted_labels)[:k, -1]\n",
    "    \n",
    "    freq = np.unique(neighbours, return_counts = True)\n",
    "    \n",
    "    return freq[0][freq[1].argmax()]"
   ]
  },
  {
   "cell_type": "code",
   "execution_count": 28,
   "metadata": {
    "scrolled": true
   },
   "outputs": [],
   "source": [
    "test_point = np.array([8, -4])\n",
    "\n",
    "#print knn(data[:, :2], data[:, -1], test_point, k =8)"
   ]
  },
  {
   "cell_type": "code",
   "execution_count": 30,
   "metadata": {},
   "outputs": [
    {
     "name": "stdout",
     "output_type": "stream",
     "text": [
      "(750, 2) (750,)\n",
      "(250, 2) (250,)\n"
     ]
    }
   ],
   "source": [
    "# Preparing training and testing data\n",
    "np.random.shuffle(data)\n",
    "split = int(0.75 * data.shape[0])\n",
    "# print split\n",
    "train_data_X = data[:split, :2]\n",
    "train_data_y = data[:split, -1]\n",
    "test_data_X = data[split:, :2]\n",
    "test_data_y = data[split:, -1]\n",
    "\n",
    "print train_data_X.shape, train_data_y.shape\n",
    "print test_data_X.shape, test_data_y.shape"
   ]
  },
  {
   "cell_type": "code",
   "execution_count": 32,
   "metadata": {},
   "outputs": [
    {
     "name": "stdout",
     "output_type": "stream",
     "text": [
      "98.4\n"
     ]
    }
   ],
   "source": [
    "def get_acc(kx):\n",
    "    preds = []\n",
    "    # print kx\n",
    "    for ix in range(test_data_X.shape[0]):\n",
    "        preds.append(knn(train_data_X, train_data_y, test_data_X[ix], k=kx))\n",
    "    preds = np.asarray(preds)\n",
    "    \n",
    "    # print preds.shape\n",
    "    return 100*float((test_data_y == preds).sum())/preds.shape[0]\n",
    "\n",
    "print get_acc(7)"
   ]
  },
  {
   "cell_type": "code",
   "execution_count": 35,
   "metadata": {},
   "outputs": [
    {
     "name": "stdout",
     "output_type": "stream",
     "text": [
      "k: 2 | Acc: 99.2\n",
      "k: 3 | Acc: 98.4\n",
      "k: 4 | Acc: 98.4\n",
      "k: 5 | Acc: 98.8\n",
      "k: 6 | Acc: 98.4\n",
      "k: 7 | Acc: 98.4\n",
      "k: 8 | Acc: 98.4\n",
      "k: 9 | Acc: 98.8\n",
      "k: 10 | Acc: 99.2\n",
      "k: 11 | Acc: 99.2\n",
      "k: 12 | Acc: 98.8\n",
      "k: 13 | Acc: 98.8\n",
      "k: 14 | Acc: 98.8\n",
      "k: 15 | Acc: 99.2\n",
      "k: 16 | Acc: 99.2\n",
      "k: 17 | Acc: 99.2\n",
      "k: 18 | Acc: 99.2\n",
      "k: 19 | Acc: 99.2\n"
     ]
    }
   ],
   "source": [
    "# for ix in range(2, 20):\n",
    "#     print \"k:\", ix, \"| Acc:\", get_acc(ix)"
   ]
  },
  {
   "cell_type": "code",
   "execution_count": null,
   "metadata": {
    "collapsed": true
   },
   "outputs": [],
   "source": []
  }
 ],
 "metadata": {
  "kernelspec": {
   "display_name": "Python 2",
   "language": "python",
   "name": "python2"
  },
  "language_info": {
   "codemirror_mode": {
    "name": "ipython",
    "version": 2
   },
   "file_extension": ".py",
   "mimetype": "text/x-python",
   "name": "python",
   "nbconvert_exporter": "python",
   "pygments_lexer": "ipython2",
   "version": "2.7.12"
  }
 },
 "nbformat": 4,
 "nbformat_minor": 2
}
